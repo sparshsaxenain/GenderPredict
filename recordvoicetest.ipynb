{
 "cells": [
  {
   "cell_type": "code",
   "execution_count": 50,
   "metadata": {},
   "outputs": [],
   "source": [
    "import sounddevice as sd\n",
    "from scipy.io.wavfile import write"
   ]
  },
  {
   "cell_type": "code",
   "execution_count": 51,
   "metadata": {},
   "outputs": [],
   "source": [
    "from scipy.io import wavfile"
   ]
  },
  {
   "cell_type": "code",
   "execution_count": 52,
   "metadata": {},
   "outputs": [],
   "source": [
    "import numpy as np"
   ]
  },
  {
   "cell_type": "code",
   "execution_count": 53,
   "metadata": {},
   "outputs": [],
   "source": [
    "fs = 44100  # Sample rate\n",
    "seconds = 3  # Duration of recording"
   ]
  },
  {
   "cell_type": "code",
   "execution_count": 54,
   "metadata": {},
   "outputs": [],
   "source": [
    "myrecording = sd.rec(int(seconds * fs), samplerate=fs, channels=1)\n",
    "sd.wait()  # Wait until recording is finished\n",
    "write('output.wav', fs, myrecording)  # Save as WAV file "
   ]
  },
  {
   "cell_type": "code",
   "execution_count": 55,
   "metadata": {},
   "outputs": [],
   "source": [
    "def spectral_properties(filename):\n",
    "    fs, data = wavfile.read(filename)\n",
    "    if data.ndim > 1:\n",
    "        data =data[:, 0]\n",
    "    spec = np.abs(np.fft.rfft(data))\n",
    "    freq = np.fft.rfftfreq(len(data), d=1/fs)\n",
    "\n",
    "    assert len(spec) == len (freq)\n",
    "\n",
    "    amp = spec /spec.sum()\n",
    "    amp_cumsum = amp.cumsum()\n",
    "\n",
    "    assert len(amp_cumsum) == len(freq)\n",
    "    q25 = freq[np.searchsorted(amp_cumsum,0.25)]\n",
    "    q75 = freq[np.searchsorted(amp_cumsum,0.75)]\n",
    "\n",
    "    return (freq * amp).sum(), q25, q75"
   ]
  },
  {
   "cell_type": "code",
   "execution_count": 56,
   "metadata": {},
   "outputs": [],
   "source": [
    "avg , q25 , q75 = spectral_properties(\"output.wav\")"
   ]
  },
  {
   "cell_type": "code",
   "execution_count": 57,
   "metadata": {},
   "outputs": [
    {
     "name": "stdout",
     "output_type": "stream",
     "text": [
      "3231.5351549136753 286.3333333333333 2729.6666666666665\n"
     ]
    }
   ],
   "source": [
    "print(avg,q25,q75)"
   ]
  },
  {
   "cell_type": "code",
   "execution_count": null,
   "metadata": {},
   "outputs": [],
   "source": []
  }
 ],
 "metadata": {
  "interpreter": {
   "hash": "748c0bf494f8a97b61ef5d37f7e908f170746fee047de38990eebacd544cdefa"
  },
  "kernelspec": {
   "display_name": "Python 3.9.2 64-bit",
   "language": "python",
   "name": "python3"
  },
  "language_info": {
   "codemirror_mode": {
    "name": "ipython",
    "version": 3
   },
   "file_extension": ".py",
   "mimetype": "text/x-python",
   "name": "python",
   "nbconvert_exporter": "python",
   "pygments_lexer": "ipython3",
   "version": "3.8.10"
  },
  "orig_nbformat": 4
 },
 "nbformat": 4,
 "nbformat_minor": 2
}
